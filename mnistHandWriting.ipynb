{
  "nbformat": 4,
  "nbformat_minor": 0,
  "metadata": {
    "colab": {
      "name": "mnistHandWriting.ipynb",
      "provenance": [],
      "collapsed_sections": []
    },
    "kernelspec": {
      "name": "python3",
      "display_name": "Python 3"
    }
  },
  "cells": [
    {
      "cell_type": "code",
      "metadata": {
        "id": "9n3i6ZNXfJls",
        "colab_type": "code",
        "colab": {}
      },
      "source": [
        "from keras.datasets import mnist\n",
        "from matplotlib import pyplot as plt\n",
        "from keras.utils import to_categorical"
      ],
      "execution_count": 0,
      "outputs": []
    },
    {
      "cell_type": "code",
      "metadata": {
        "id": "SkJUk0EtgA4o",
        "colab_type": "code",
        "colab": {}
      },
      "source": [
        "(train_image , train_label ) , (test_image , test_label) = mnist.load_data()"
      ],
      "execution_count": 0,
      "outputs": []
    },
    {
      "cell_type": "markdown",
      "metadata": {
        "id": "xqkHt1wyhG6g",
        "colab_type": "text"
      },
      "source": [
        "***preprocessing***"
      ]
    },
    {
      "cell_type": "code",
      "metadata": {
        "id": "2fuP9SekhPto",
        "colab_type": "code",
        "colab": {}
      },
      "source": [
        "#train_image.ndim\n",
        "#train_image.shape\n",
        "train_image_size = train_image.size\n",
        "train_image_size\n",
        "len(train_image)\n",
        "train_image = train_image.reshape(60000,28*28)\n",
        "test_image  = test_image.reshape(10000,28*28)\n",
        "train_image_reshape = train_image.astype('float32')/255\n",
        "test_image_reshape = test_image.astype('float32')/255\n",
        "#label categorical\n",
        "train_label_categorical = to_categorical(train_label)\n",
        "test_label_categorical = to_categorical(test_label)\n"
      ],
      "execution_count": 0,
      "outputs": []
    },
    {
      "cell_type": "markdown",
      "metadata": {
        "id": "4rd5snjMlGmF",
        "colab_type": "text"
      },
      "source": [
        "***network architechtur***"
      ]
    },
    {
      "cell_type": "code",
      "metadata": {
        "id": "Bca_3JZLhz5p",
        "colab_type": "code",
        "colab": {}
      },
      "source": [
        "from keras import layers , models\n",
        "model = models.Sequential()\n",
        "model.add(layers.Dense( 512,activation='relu',input_shape=(28*28 ,)))\n",
        "model.add(layers.Dense(10 , activation='softmax'))"
      ],
      "execution_count": 0,
      "outputs": []
    },
    {
      "cell_type": "markdown",
      "metadata": {
        "id": "U_tX-__jpc-c",
        "colab_type": "text"
      },
      "source": [
        "***ready to training train Datasets of mnist with compile method***"
      ]
    },
    {
      "cell_type": "markdown",
      "metadata": {
        "id": "vU8mXJpFqo7k",
        "colab_type": "text"
      },
      "source": [
        "note : optimizer=adam ===A Method for Stochastic Optimization"
      ]
    },
    {
      "cell_type": "code",
      "metadata": {
        "id": "y0OZ2chBir3s",
        "colab_type": "code",
        "colab": {}
      },
      "source": [
        "model.compile(optimizer='adam' , loss='categorical_crossentropy',metrics=['accuracy'])"
      ],
      "execution_count": 0,
      "outputs": []
    },
    {
      "cell_type": "markdown",
      "metadata": {
        "id": "7nho8uVcrqLh",
        "colab_type": "text"
      },
      "source": [
        "training Data"
      ]
    },
    {
      "cell_type": "code",
      "metadata": {
        "id": "OdUoXvP0rl4P",
        "colab_type": "code",
        "colab": {
          "base_uri": "https://localhost:8080/",
          "height": 204
        },
        "outputId": "97b4cbbf-3bea-4c1f-f44d-1a3c3a8be19a"
      },
      "source": [
        "model.fit(train_image_reshape,train_label_categorical,batch_size=128 ,epochs=5 )"
      ],
      "execution_count": 28,
      "outputs": [
        {
          "output_type": "stream",
          "text": [
            "Epoch 1/5\n",
            "60000/60000 [==============================] - 5s 76us/step - loss: 0.2647 - accuracy: 0.9255\n",
            "Epoch 2/5\n",
            "60000/60000 [==============================] - 5s 75us/step - loss: 0.1083 - accuracy: 0.9686\n",
            "Epoch 3/5\n",
            "60000/60000 [==============================] - 5s 75us/step - loss: 0.0712 - accuracy: 0.9790\n",
            "Epoch 4/5\n",
            "60000/60000 [==============================] - 5s 76us/step - loss: 0.0504 - accuracy: 0.9849\n",
            "Epoch 5/5\n",
            "60000/60000 [==============================] - 4s 74us/step - loss: 0.0367 - accuracy: 0.9893\n"
          ],
          "name": "stdout"
        },
        {
          "output_type": "execute_result",
          "data": {
            "text/plain": [
              "<keras.callbacks.callbacks.History at 0x7f58fedf8978>"
            ]
          },
          "metadata": {
            "tags": []
          },
          "execution_count": 28
        }
      ]
    },
    {
      "cell_type": "markdown",
      "metadata": {
        "id": "DDFugEUxtJPU",
        "colab_type": "text"
      },
      "source": [
        "testing data and evaluation"
      ]
    },
    {
      "cell_type": "code",
      "metadata": {
        "id": "dsjCtVegs6wH",
        "colab_type": "code",
        "colab": {
          "base_uri": "https://localhost:8080/",
          "height": 51
        },
        "outputId": "f59d2167-57dc-4f17-be8a-8e538434f466"
      },
      "source": [
        "model.evaluate(test_image_reshape,test_label_categorical,batch_size=128)"
      ],
      "execution_count": 29,
      "outputs": [
        {
          "output_type": "stream",
          "text": [
            "10000/10000 [==============================] - 0s 26us/step\n"
          ],
          "name": "stdout"
        },
        {
          "output_type": "execute_result",
          "data": {
            "text/plain": [
              "[0.06943216467574238, 0.9789000153541565]"
            ]
          },
          "metadata": {
            "tags": []
          },
          "execution_count": 29
        }
      ]
    }
  ]
}